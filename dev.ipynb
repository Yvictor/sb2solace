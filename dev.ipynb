{
 "cells": [
  {
   "cell_type": "code",
   "execution_count": 1,
   "metadata": {},
   "outputs": [],
   "source": [
    "import pyrsolace\n"
   ]
  },
  {
   "cell_type": "code",
   "execution_count": 2,
   "metadata": {},
   "outputs": [],
   "source": [
    "pyrsolace.init_tracing_logger(pyrsolace.LogLevel.Info)"
   ]
  },
  {
   "cell_type": "code",
   "execution_count": 3,
   "metadata": {},
   "outputs": [],
   "source": [
    "client = pyrsolace.Client()"
   ]
  },
  {
   "cell_type": "code",
   "execution_count": 4,
   "metadata": {},
   "outputs": [
    {
     "name": "stdout",
     "output_type": "stream",
     "text": [
      "\u001b[2m2024-10-15T01:30:02.343133Z\u001b[0m \u001b[32m INFO\u001b[0m \u001b[2mpyrsolace\u001b[0m\u001b[2m:\u001b[0m SolEvent { session_event: UpNotice, response_code: 0, info: \"host '128.110.5.101:55555', hostname '128.110.5.101:55555' IP 128.110.5.101:55555 (host 1 of 1) (host connection attempt 1 of 1) (total connection attempt 1 of 4)\" }\n"
     ]
    },
    {
     "data": {
      "text/plain": [
       "True"
      ]
     },
     "execution_count": 4,
     "metadata": {},
     "output_type": "execute_result"
    }
   ],
   "source": [
    "client.connect(\"128.110.5.101:55555\", \"sp-intra\", \"ap01\", \"password\", \"sb2solace_subdev\", compression_level=0)"
   ]
  },
  {
   "cell_type": "code",
   "execution_count": 7,
   "metadata": {},
   "outputs": [],
   "source": [
    "msg_received = None\n",
    "def on_message(msg: pyrsolace.Msg):\n",
    "    global msg_received\n",
    "    msg_received = msg\n",
    "\n",
    "client.set_msg_callback(on_message)"
   ]
  },
  {
   "cell_type": "code",
   "execution_count": 8,
   "metadata": {},
   "outputs": [
    {
     "data": {
      "text/plain": [
       "ReturnCode.Ok"
      ]
     },
     "execution_count": 8,
     "metadata": {},
     "output_type": "execute_result"
    }
   ],
   "source": [
    "client.subscribe(\"R/F/S/>\")"
   ]
  },
  {
   "cell_type": "code",
   "execution_count": 16,
   "metadata": {},
   "outputs": [],
   "source": [
    "import orjson"
   ]
  },
  {
   "cell_type": "code",
   "execution_count": 19,
   "metadata": {},
   "outputs": [
    {
     "data": {
      "text/plain": [
       "b'{\"FORMAT\":\"FSOUL01\",\"TRADE_TYPE\":\"01\",\"ORD_DATE\":\"20241015\",\"BRANCH_ID\":\"1300\",\"ORD_NO\":\"00000000\",\"ACCOUNT\":\"09800762\",\"EXCHANGE\":\"US\",\"STOCK_ID\":\"NVDA\",\"QTY\":\"00000020000\",\"PRICE_INT\":\"0000138\",\"PRICE_DEC\":\"070000\",\"BROKER_ID\":\"80036\",\"ORD_TYPE\":\"2\",\"ORD_TERM\":\"\",\"INSTRUCTION\":\"\",\"AGENT_ID\":\"\",\"INTRODUCER\":\"\",\"BS\":\"S\",\"PS\":\"\",\"MATCH_QTY\":\"00000000000\",\"UNMATHC_QTY\":\"00000000000\",\"FSOUL01_21\":\"20241007\",\"FSOUL01_22\":\"100832\",\"WEB_ID\":\"146\",\"ORD_SEQ\":\"07821651\",\"WEB_ID_O\":\"146\",\"ORD_SEQ_O\":\"07821651\",\"TRF_FLD\":\"\",\"ORD_STATUS\":\"8\",\"RTN_FROM\":\"1\",\"MSG_ID\":\"FSC0030\",\"ERR_MSG\":\"FSC0030 - \\xe5\\xa7\\x94\\xe8\\xa8\\x97\\xe8\\xb3\\xa3\\xe5\\x87\\xba\\xe6\\x95\\xb8\\xe9\\x87\\x8f\\xe5\\xa4\\xa7\\xe6\\x96\\xbc\\xe5\\xae\\xa2\\xe6\\x88\\xb6\\xe5\\xba\\xab\\xe5\\xad\\x98\\xe6\\x95\\xb8\\xe9\\x87\\x8f\",\"FILLER_1\":\"\",\"FILLER_2\":\"\",\"FILLER_3\":\"\",\"FILLER\":\"\",\"ADD_DATE\":\"20241007\",\"ADD_TIME\":\"100832\",\"ADD_USER\":\"FSTI01\",\"PROCESS_FG\":\"\",\"PRICE\":138.07}'"
      ]
     },
     "execution_count": 19,
     "metadata": {},
     "output_type": "execute_result"
    }
   ],
   "source": [
    "msg_received.data"
   ]
  },
  {
   "cell_type": "code",
   "execution_count": 22,
   "metadata": {},
   "outputs": [
    {
     "data": {
      "text/plain": [
       "{'FORMAT': 'FSOUM01',\n",
       " 'TRADE_TYPE': '50',\n",
       " 'ORD_DATE': '20241015',\n",
       " 'BRANCH_ID': '1300',\n",
       " 'ORD_NO': '00000045',\n",
       " 'MATCH_DATE': '20241015',\n",
       " 'FSOUM01_7': 'UC21533606',\n",
       " 'MATCH_TIME': '101145',\n",
       " 'ACCOUNT': '09800762',\n",
       " 'EXCHANGE': 'US',\n",
       " 'STOCK_ID': 'NVDA',\n",
       " 'MATCH_QTY': '00000000001',\n",
       " 'MATCH_PRICE_INT': '0000138',\n",
       " 'MATCH_PRICE_DEC': '070000',\n",
       " 'BROKER_ID': '80036',\n",
       " 'AGENT_ID': '009611',\n",
       " 'INTRODUCER': '',\n",
       " 'BS': 'B',\n",
       " 'WEB_ID': '146',\n",
       " 'ORD_SEQ': '07821652',\n",
       " 'TRF_FLD': '',\n",
       " 'FSOUM01_21': '10282221',\n",
       " 'FILLER_1': '',\n",
       " 'FILLER_2': '',\n",
       " 'FILLER_3': '0',\n",
       " 'FILLER': '',\n",
       " 'ADD_DATE': '20241015',\n",
       " 'ADD_TIME': '101145',\n",
       " 'ADD_USER': 'FSTI02',\n",
       " 'PROCESS_FG': '',\n",
       " 'MATCH_PRICE': 138.07}"
      ]
     },
     "execution_count": 22,
     "metadata": {},
     "output_type": "execute_result"
    }
   ],
   "source": [
    "orjson.loads(msg_received.data)"
   ]
  },
  {
   "cell_type": "code",
   "execution_count": 14,
   "metadata": {},
   "outputs": [
    {
     "data": {
      "text/plain": [
       "'application/json'"
      ]
     },
     "execution_count": 14,
     "metadata": {},
     "output_type": "execute_result"
    }
   ],
   "source": [
    "msg_received.get_user_prop(\"ct\")"
   ]
  },
  {
   "cell_type": "code",
   "execution_count": 23,
   "metadata": {},
   "outputs": [
    {
     "data": {
      "text/plain": [
       "'Destination:                            Topic \\'R/F/S/E/1300/09800762\\'\\nApplicationMessageId:                   146,07821652\\nClass Of Service:                       COS_1\\nDeliveryMode:                           DIRECT\\nUser Property Map:                      \\n  Key \\'ct\\' (STRING) application/json\\nBinary Attachment:                      len=598\\n  7b 22 46 4f 52 4d 41 54  22 3a 22 46 53 4f 55 4d      {\"FORMAT   \":\"FSOUM\\n  30 31 22 2c 22 54 52 41  44 45 5f 54 59 50 45 22      01\",\"TRA   DE_TYPE\"\\n  3a 22 35 30 22 2c 22 4f  52 44 5f 44 41 54 45 22      :\"50\",\"O   RD_DATE\"\\n  3a 22 32 30 32 34 31 30  31 35 22 2c 22 42 52 41      :\"202410   15\",\"BRA\\n  4e 43 48 5f 49 44 22 3a  22 31 33 30 30 22 2c 22      NCH_ID\":   \"1300\",\"\\n  4f 52 44 5f 4e 4f 22 3a  22 30 30 30 30 30 30 34      ORD_NO\":   \"0000004\\n  35 22 2c 22 4d 41 54 43  48 5f 44 41 54 45 22 3a      5\",\"MATC   H_DATE\":\\n  22 32 30 32 34 31 30 31  35 22 2c 22 46 53 4f 55      \"2024101   5\",\"FSOU\\n  4d 30 31 5f 37 22 3a 22  55 43 32 31 35 33 33 36      M01_7\":\"   UC215336\\n  30 36 22 2c 22 4d 41 54  43 48 5f 54 49 4d 45 22      06\",\"MAT   CH_TIME\"\\n  3a 22 31 30 31 31 34 35  22 2c 22 41 43 43 4f 55      :\"101145   \",\"ACCOU\\n  4e 54 22 3a 22 30 39 38  30 30 37 36 32 22 2c 22      NT\":\"098   00762\",\"\\n  45 58 43 48 41 4e 47 45  22 3a 22 55 53 22 2c 22      EXCHANGE   \":\"US\",\"\\n  53 54 4f 43 4b 5f 49 44  22 3a 22 4e 56 44 41 22      STOCK_ID   \":\"NVDA\"\\n  2c 22 4d 41 54 43 48 5f  51 54 59 22 3a 22 30 30      ,\"MATCH_   QTY\":\"00\\n  30 30 30 30 30 30 30 30  31 22 2c 22 4d 41 54 43      00000000   1\",\"MATC\\n  48 5f 50 52 49 43 45 5f  49 4e 54 22 3a 22 30 30      H_PRICE_   INT\":\"00\\n  30 30 31 33 38 22 2c 22  4d 41 54 43 48 5f 50 52      00138\",\"   MATCH_PR\\n  49 43 45 5f 44 45 43 22  3a 22 30 37 30 30 30 30      ICE_DEC\"   :\"070000\\n  22 2c 22 42 52 4f 4b 45  52 5f 49 44 22 3a 22 38      \",\"BROKE   R_ID\":\"8\\n  30 30 33 36 22 2c 22 41  47 45 4e 54 5f 49 44 22      0036\",\"A   GENT_ID\"\\n  3a 22 30 30 39 36 31 31  22 2c 22 49 4e 54 52 4f      :\"009611   \",\"INTRO\\n  44 55 43 45 52 22 3a 22  22 2c 22 42 53 22 3a 22      DUCER\":\"   \",\"BS\":\"\\n  42 22 2c 22 57 45 42 5f  49 44 22 3a 22 31 34 36      B\",\"WEB_   ID\":\"146\\n  22 2c 22 4f 52 44 5f 53  45 51 22 3a 22 30 37 38      \",\"ORD_S   EQ\":\"078\\n  32 31 36 35 32 22 2c 22  54 52 46 5f 46 4c 44 22      21652\",\"   TRF_FLD\"\\n  3a 22 22 2c 22 46 53 4f  55 4d 30 31 5f 32 31 22      :\"\",\"FSO   UM01_21\"\\n  3a 22 31 30 32 38 32 32  32 31 22 2c 22 46 49 4c      :\"102822   21\",\"FIL\\n  4c 45 52 5f 31 22 3a 22  22 2c 22 46 49 4c 4c 45      LER_1\":\"   \",\"FILLE\\n  52 5f 32 22 3a 22 22 2c  22 46 49 4c 4c 45 52 5f      R_2\":\"\",   \"FILLER_\\n  33 22 3a 22 30 22 2c 22  46 49 4c 4c 45 52 22 3a      3\":\"0\",\"   FILLER\":\\n  22 22 2c 22 41 44 44 5f  44 41 54 45 22 3a 22 32      \"\",\"ADD_   DATE\":\"2\\n  30 32 34 31 30 31 35 22  2c 22 41 44 44 5f 54 49      0241015\"   ,\"ADD_TI\\n  4d 45 22 3a 22 31 30 31  31 34 35 22 2c 22 41 44      ME\":\"101   145\",\"AD\\n  44 5f 55 53 45 52 22 3a  22 46 53 54 49 30 32 22      D_USER\":   \"FSTI02\"\\n  2c 22 50 52 4f 43 45 53  53 5f 46 47 22 3a 22 22      ,\"PROCES   S_FG\":\"\"\\n  2c 22 4d 41 54 43 48 5f  50 52 49 43 45 22 3a 31      ,\"MATCH_   PRICE\":1\\n  33 38 2e 30 37 7d                                     38.07}\\n'"
      ]
     },
     "execution_count": 23,
     "metadata": {},
     "output_type": "execute_result"
    }
   ],
   "source": [
    "msg_received.dump()"
   ]
  },
  {
   "cell_type": "code",
   "execution_count": 25,
   "metadata": {},
   "outputs": [
    {
     "name": "stdout",
     "output_type": "stream",
     "text": [
      "Destination:                            Topic 'R/F/S/E/1300/09800762'\n",
      "ApplicationMessageId:                   146,07821652\n",
      "Class Of Service:                       COS_1\n",
      "DeliveryMode:                           DIRECT\n",
      "User Property Map:                      \n",
      "  Key 'ct' (STRING) application/json\n",
      "Binary Attachment:                      len=598\n",
      "  7b 22 46 4f 52 4d 41 54  22 3a 22 46 53 4f 55 4d      {\"FORMAT   \":\"FSOUM\n",
      "  30 31 22 2c 22 54 52 41  44 45 5f 54 59 50 45 22      01\",\"TRA   DE_TYPE\"\n",
      "  3a 22 35 30 22 2c 22 4f  52 44 5f 44 41 54 45 22      :\"50\",\"O   RD_DATE\"\n",
      "  3a 22 32 30 32 34 31 30  31 35 22 2c 22 42 52 41      :\"202410   15\",\"BRA\n",
      "  4e 43 48 5f 49 44 22 3a  22 31 33 30 30 22 2c 22      NCH_ID\":   \"1300\",\"\n",
      "  4f 52 44 5f 4e 4f 22 3a  22 30 30 30 30 30 30 34      ORD_NO\":   \"0000004\n",
      "  35 22 2c 22 4d 41 54 43  48 5f 44 41 54 45 22 3a      5\",\"MATC   H_DATE\":\n",
      "  22 32 30 32 34 31 30 31  35 22 2c 22 46 53 4f 55      \"2024101   5\",\"FSOU\n",
      "  4d 30 31 5f 37 22 3a 22  55 43 32 31 35 33 33 36      M01_7\":\"   UC215336\n",
      "  30 36 22 2c 22 4d 41 54  43 48 5f 54 49 4d 45 22      06\",\"MAT   CH_TIME\"\n",
      "  3a 22 31 30 31 31 34 35  22 2c 22 41 43 43 4f 55      :\"101145   \",\"ACCOU\n",
      "  4e 54 22 3a 22 30 39 38  30 30 37 36 32 22 2c 22      NT\":\"098   00762\",\"\n",
      "  45 58 43 48 41 4e 47 45  22 3a 22 55 53 22 2c 22      EXCHANGE   \":\"US\",\"\n",
      "  53 54 4f 43 4b 5f 49 44  22 3a 22 4e 56 44 41 22      STOCK_ID   \":\"NVDA\"\n",
      "  2c 22 4d 41 54 43 48 5f  51 54 59 22 3a 22 30 30      ,\"MATCH_   QTY\":\"00\n",
      "  30 30 30 30 30 30 30 30  31 22 2c 22 4d 41 54 43      00000000   1\",\"MATC\n",
      "  48 5f 50 52 49 43 45 5f  49 4e 54 22 3a 22 30 30      H_PRICE_   INT\":\"00\n",
      "  30 30 31 33 38 22 2c 22  4d 41 54 43 48 5f 50 52      00138\",\"   MATCH_PR\n",
      "  49 43 45 5f 44 45 43 22  3a 22 30 37 30 30 30 30      ICE_DEC\"   :\"070000\n",
      "  22 2c 22 42 52 4f 4b 45  52 5f 49 44 22 3a 22 38      \",\"BROKE   R_ID\":\"8\n",
      "  30 30 33 36 22 2c 22 41  47 45 4e 54 5f 49 44 22      0036\",\"A   GENT_ID\"\n",
      "  3a 22 30 30 39 36 31 31  22 2c 22 49 4e 54 52 4f      :\"009611   \",\"INTRO\n",
      "  44 55 43 45 52 22 3a 22  22 2c 22 42 53 22 3a 22      DUCER\":\"   \",\"BS\":\"\n",
      "  42 22 2c 22 57 45 42 5f  49 44 22 3a 22 31 34 36      B\",\"WEB_   ID\":\"146\n",
      "  22 2c 22 4f 52 44 5f 53  45 51 22 3a 22 30 37 38      \",\"ORD_S   EQ\":\"078\n",
      "  32 31 36 35 32 22 2c 22  54 52 46 5f 46 4c 44 22      21652\",\"   TRF_FLD\"\n",
      "  3a 22 22 2c 22 46 53 4f  55 4d 30 31 5f 32 31 22      :\"\",\"FSO   UM01_21\"\n",
      "  3a 22 31 30 32 38 32 32  32 31 22 2c 22 46 49 4c      :\"102822   21\",\"FIL\n",
      "  4c 45 52 5f 31 22 3a 22  22 2c 22 46 49 4c 4c 45      LER_1\":\"   \",\"FILLE\n",
      "  52 5f 32 22 3a 22 22 2c  22 46 49 4c 4c 45 52 5f      R_2\":\"\",   \"FILLER_\n",
      "  33 22 3a 22 30 22 2c 22  46 49 4c 4c 45 52 22 3a      3\":\"0\",\"   FILLER\":\n",
      "  22 22 2c 22 41 44 44 5f  44 41 54 45 22 3a 22 32      \"\",\"ADD_   DATE\":\"2\n",
      "  30 32 34 31 30 31 35 22  2c 22 41 44 44 5f 54 49      0241015\"   ,\"ADD_TI\n",
      "  4d 45 22 3a 22 31 30 31  31 34 35 22 2c 22 41 44      ME\":\"101   145\",\"AD\n",
      "  44 5f 55 53 45 52 22 3a  22 46 53 54 49 30 32 22      D_USER\":   \"FSTI02\"\n",
      "  2c 22 50 52 4f 43 45 53  53 5f 46 47 22 3a 22 22      ,\"PROCES   S_FG\":\"\"\n",
      "  2c 22 4d 41 54 43 48 5f  50 52 49 43 45 22 3a 31      ,\"MATCH_   PRICE\":1\n",
      "  33 38 2e 30 37 7d                                     38.07}\n",
      "\n"
     ]
    }
   ],
   "source": [
    "print(msg_received.dump())"
   ]
  },
  {
   "cell_type": "code",
   "execution_count": null,
   "metadata": {},
   "outputs": [],
   "source": []
  }
 ],
 "metadata": {
  "kernelspec": {
   "display_name": ".venv",
   "language": "python",
   "name": "python3"
  },
  "language_info": {
   "codemirror_mode": {
    "name": "ipython",
    "version": 3
   },
   "file_extension": ".py",
   "mimetype": "text/x-python",
   "name": "python",
   "nbconvert_exporter": "python",
   "pygments_lexer": "ipython3",
   "version": "3.12.6"
  }
 },
 "nbformat": 4,
 "nbformat_minor": 2
}
